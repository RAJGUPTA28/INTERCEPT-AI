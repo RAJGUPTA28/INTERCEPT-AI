{
  "nbformat": 4,
  "nbformat_minor": 0,
  "metadata": {
    "colab": {
      "provenance": []
    },
    "kernelspec": {
      "name": "python3",
      "display_name": "Python 3"
    },
    "language_info": {
      "name": "python"
    },
    "accelerator": "GPU",
    "gpuClass": "standard"
  },
  "cells": [
    {
      "cell_type": "code",
      "execution_count": null,
      "metadata": {
        "id": "yu9ylTitAjbc"
      },
      "outputs": [],
      "source": [
        "import numpy as np\n",
        "import pandas as pd\n",
        "\n",
        "import tensorflow as tf\n",
        "import tensorflow.keras as keras\n",
        "from keras.preprocessing import image\n",
        "\n"
      ]
    },
    {
      "cell_type": "code",
      "source": [
        "size = (224,224)\n",
        "BATCH_SIZE = 32\n",
        "EPOCHS =30\n",
        "FILE_PATH = '/content/drive/MyDrive/HACKMOL/adult Content/test_images_adult'"
      ],
      "metadata": {
        "id": "FJ2udf0xDyrq"
      },
      "execution_count": null,
      "outputs": []
    },
    {
      "cell_type": "code",
      "source": [
        "dataset = tf.keras.preprocessing.image_dataset_from_directory(\n",
        "    FILE_PATH,\n",
        "    image_size = size,\n",
        "    shuffle =True ,\n",
        "    batch_size = BATCH_SIZE\n",
        ")"
      ],
      "metadata": {
        "colab": {
          "base_uri": "https://localhost:8080/"
        },
        "id": "SeHJHDjpEG4J",
        "outputId": "863e2f56-bfb9-440b-ac93-1ee27231d5af"
      },
      "execution_count": null,
      "outputs": [
        {
          "output_type": "stream",
          "name": "stdout",
          "text": [
            "Found 1419 files belonging to 2 classes.\n"
          ]
        }
      ]
    },
    {
      "cell_type": "code",
      "source": [
        "dataset.class_names"
      ],
      "metadata": {
        "colab": {
          "base_uri": "https://localhost:8080/"
        },
        "id": "IlkqN59oEn8w",
        "outputId": "f9828897-7d7a-492a-d24f-3a406725a67c"
      },
      "execution_count": null,
      "outputs": [
        {
          "output_type": "execute_result",
          "data": {
            "text/plain": [
              "['Adult', 'normal']"
            ]
          },
          "metadata": {},
          "execution_count": 4
        }
      ]
    },
    {
      "cell_type": "code",
      "source": [
        "class_names = {\"Adult\" :0 , \"normal\" :1}"
      ],
      "metadata": {
        "id": "Q2wHHu9EFsUm"
      },
      "execution_count": null,
      "outputs": []
    },
    {
      "cell_type": "code",
      "source": [
        "for image_batch , labels in dataset.take(1):\n",
        "  print(image_batch.shape)\n",
        "  print(labels.numpy())"
      ],
      "metadata": {
        "colab": {
          "base_uri": "https://localhost:8080/"
        },
        "id": "tjcX4vxKFzB0",
        "outputId": "f6246ccc-cc3c-4c9f-deb1-9fa3295266cb"
      },
      "execution_count": null,
      "outputs": [
        {
          "output_type": "stream",
          "name": "stdout",
          "text": [
            "(32, 224, 224, 3)\n",
            "[1 1 1 1 1 0 0 1 0 1 1 0 1 0 0 1 1 1 0 1 0 1 1 1 0 0 1 1 1 1 1 1]\n"
          ]
        }
      ]
    },
    {
      "cell_type": "code",
      "source": [
        "def split_data(dataset , train_split =0.7 , val_split =0.3):\n",
        "  dataset_size  =len(dataset)\n",
        "\n",
        "  train_size = int(train_split*dataset_size)\n",
        "  val_size = int(val_split*dataset_size)\n",
        "\n",
        "  train_data = dataset.take(train_size)\n",
        "  val_data =dataset.skip(train_size).take(val_size)\n",
        "\n",
        "  return train_data ,val_data"
      ],
      "metadata": {
        "id": "UZ490Lv3F_CD"
      },
      "execution_count": null,
      "outputs": []
    },
    {
      "cell_type": "markdown",
      "source": [],
      "metadata": {
        "id": "v95Y67-UHWfV"
      }
    },
    {
      "cell_type": "code",
      "source": [
        "train_data  , val_data = split_data(dataset)"
      ],
      "metadata": {
        "id": "jw4WGrmeGYFC"
      },
      "execution_count": null,
      "outputs": []
    },
    {
      "cell_type": "code",
      "source": [
        "\n",
        "len(train_data)"
      ],
      "metadata": {
        "colab": {
          "base_uri": "https://localhost:8080/"
        },
        "id": "wKPEO2kKHD-b",
        "outputId": "42c58149-c017-4a82-a3d2-2e1577623836"
      },
      "execution_count": null,
      "outputs": [
        {
          "output_type": "execute_result",
          "data": {
            "text/plain": [
              "31"
            ]
          },
          "metadata": {},
          "execution_count": 9
        }
      ]
    },
    {
      "cell_type": "code",
      "source": [
        "len(val_data)"
      ],
      "metadata": {
        "colab": {
          "base_uri": "https://localhost:8080/"
        },
        "id": "i697XkAXHJqg",
        "outputId": "8d73723e-8803-4b65-b54f-2cc4269933c9"
      },
      "execution_count": null,
      "outputs": [
        {
          "output_type": "execute_result",
          "data": {
            "text/plain": [
              "13"
            ]
          },
          "metadata": {},
          "execution_count": 10
        }
      ]
    },
    {
      "cell_type": "markdown",
      "source": [
        "DATA AUGMENTATION"
      ],
      "metadata": {
        "id": "2FaHUbtwHcrJ"
      }
    },
    {
      "cell_type": "code",
      "source": [
        "resize_rescale = tf.keras.Sequential([\n",
        "    tf.keras.layers.experimental.preprocessing.Rescaling(1./255),\n",
        "    tf.keras.layers.experimental.preprocessing.Resizing(224,224),\n",
        "    \n",
        "])\n",
        "\n",
        "data_augmentation =tf.keras.Sequential([\n",
        "    tf.keras.layers.experimental.preprocessing.RandomFlip('horizontal_and_vertical'),\n",
        "    tf.keras.layers.experimental.preprocessing.RandomRotation(0.4)\n",
        "])"
      ],
      "metadata": {
        "id": "DQCNzkcHHRH4"
      },
      "execution_count": null,
      "outputs": []
    },
    {
      "cell_type": "markdown",
      "source": [
        "# **MODEL**"
      ],
      "metadata": {
        "id": "yh3iXrZuJI4z"
      }
    },
    {
      "cell_type": "code",
      "source": [
        "import keras\n",
        "from keras.callbacks import EarlyStopping, ModelCheckpoint\n",
        "from keras.layers import Dense\n",
        "from keras.models import Model\n",
        "from keras.optimizers import Adam\n"
      ],
      "metadata": {
        "id": "Sx4IgzjqJFpm"
      },
      "execution_count": null,
      "outputs": []
    },
    {
      "cell_type": "code",
      "source": [
        "input_shape = (224 , 224 ,3)\n",
        "\n",
        "base_model = tf.keras.applications.resnet50.ResNet50(weights = 'imagenet' ,include_top = False ,input_shape = input_shape)\n",
        "base_model.trainable =False\n",
        "\n",
        "inputs =tf.keras.Input(shape = input_shape)\n",
        "\n",
        "x = resize_rescale(inputs)\n",
        "x = data_augmentation(x)\n",
        "\n",
        "x = base_model(x, training = False)\n",
        "x = tf.keras.layers.GlobalAveragePooling2D()(x)\n",
        "x = tf.keras.layers.Dropout(0.2)(x)\n",
        "x = tf.keras.layers.Dense(1024 , activation = 'relu')(x)\n",
        "x= tf.keras.layers.Dense(1024, activation='relu')(x)\n",
        "outputs = tf.keras.layers.Dense(1, activation = 'sigmoid')(x)\n",
        "\n",
        "ResNet50Model = Model(inputs , outputs)\n",
        "\n",
        "ResNet50Model.compile(\n",
        "    optimizer=Adam(learning_rate=0.0001), loss='binary_crossentropy', metrics=['accuracy']\n",
        ")\n"
      ],
      "metadata": {
        "colab": {
          "base_uri": "https://localhost:8080/"
        },
        "id": "CqcazcRiJEZk",
        "outputId": "4a2dbb27-e032-4bdc-f7f6-c77e93034b61"
      },
      "execution_count": null,
      "outputs": [
        {
          "output_type": "stream",
          "name": "stderr",
          "text": [
            "WARNING:tensorflow:Using a while_loop for converting RngReadAndSkip cause there is no registered converter for this op.\n",
            "WARNING:tensorflow:Using a while_loop for converting Bitcast cause there is no registered converter for this op.\n",
            "WARNING:tensorflow:Using a while_loop for converting Bitcast cause there is no registered converter for this op.\n",
            "WARNING:tensorflow:Using a while_loop for converting StatelessRandomUniformV2 cause there is no registered converter for this op.\n",
            "WARNING:tensorflow:Using a while_loop for converting ImageProjectiveTransformV3 cause there is no registered converter for this op.\n"
          ]
        }
      ]
    },
    {
      "cell_type": "code",
      "source": [
        "ResNet50Model.summary()"
      ],
      "metadata": {
        "colab": {
          "base_uri": "https://localhost:8080/"
        },
        "id": "NH8dFqj4LKeO",
        "outputId": "54bda312-4bd7-4d49-981b-0236629c0a6b"
      },
      "execution_count": null,
      "outputs": [
        {
          "output_type": "stream",
          "name": "stdout",
          "text": [
            "Model: \"model_1\"\n",
            "_________________________________________________________________\n",
            " Layer (type)                Output Shape              Param #   \n",
            "=================================================================\n",
            " input_4 (InputLayer)        [(None, 224, 224, 3)]     0         \n",
            "                                                                 \n",
            " sequential (Sequential)     (None, 224, 224, 3)       0         \n",
            "                                                                 \n",
            " resnet50 (Functional)       (None, 7, 7, 2048)        23587712  \n",
            "                                                                 \n",
            " global_average_pooling2d_1   (None, 2048)             0         \n",
            " (GlobalAveragePooling2D)                                        \n",
            "                                                                 \n",
            " dropout_1 (Dropout)         (None, 2048)              0         \n",
            "                                                                 \n",
            " dense_3 (Dense)             (None, 1024)              2098176   \n",
            "                                                                 \n",
            " dense_4 (Dense)             (None, 1024)              1049600   \n",
            "                                                                 \n",
            " dense_5 (Dense)             (None, 1)                 1025      \n",
            "                                                                 \n",
            "=================================================================\n",
            "Total params: 26,736,513\n",
            "Trainable params: 3,148,801\n",
            "Non-trainable params: 23,587,712\n",
            "_________________________________________________________________\n"
          ]
        }
      ]
    },
    {
      "cell_type": "code",
      "source": [
        "from keras.callbacks import ModelCheckpoint\n",
        "\n",
        "callback_list = [ModelCheckpoint(filepath = '/content/drive/MyDrive/HACKMOL/Adult_ResNet50Model.h5' \n",
        "                                 ,monitor='val_accuracy' ,verbose = 1 , save_best_only = True )]\n",
        "\n",
        "model = ResNet50Model.fit(train_data , epochs = 30 ,validation_data =val_data , callbacks=[callback_list])"
      ],
      "metadata": {
        "colab": {
          "base_uri": "https://localhost:8080/"
        },
        "id": "-O7U8qtIL6tu",
        "outputId": "61fb2469-236f-4ec4-a9ac-1e6157286f55"
      },
      "execution_count": null,
      "outputs": [
        {
          "output_type": "stream",
          "name": "stdout",
          "text": [
            "Epoch 1/30\n",
            "31/31 [==============================] - ETA: 0s - loss: 0.6115 - accuracy: 0.6996\n",
            "Epoch 1: val_accuracy improved from -inf to 0.75721, saving model to /content/drive/MyDrive/HACKMOL/Adult_ResNet50Model.h5\n",
            "31/31 [==============================] - 26s 615ms/step - loss: 0.6115 - accuracy: 0.6996 - val_loss: 0.5203 - val_accuracy: 0.7572\n",
            "Epoch 2/30\n",
            "31/31 [==============================] - ETA: 0s - loss: 0.5685 - accuracy: 0.7480\n",
            "Epoch 2: val_accuracy improved from 0.75721 to 0.77404, saving model to /content/drive/MyDrive/HACKMOL/Adult_ResNet50Model.h5\n",
            "31/31 [==============================] - 13s 403ms/step - loss: 0.5685 - accuracy: 0.7480 - val_loss: 0.5051 - val_accuracy: 0.7740\n",
            "Epoch 3/30\n",
            "31/31 [==============================] - ETA: 0s - loss: 0.5524 - accuracy: 0.7500\n",
            "Epoch 3: val_accuracy improved from 0.77404 to 0.77885, saving model to /content/drive/MyDrive/HACKMOL/Adult_ResNet50Model.h5\n",
            "31/31 [==============================] - 16s 501ms/step - loss: 0.5524 - accuracy: 0.7500 - val_loss: 0.5225 - val_accuracy: 0.7788\n",
            "Epoch 4/30\n",
            "31/31 [==============================] - ETA: 0s - loss: 0.5364 - accuracy: 0.7550\n",
            "Epoch 4: val_accuracy improved from 0.77885 to 0.79327, saving model to /content/drive/MyDrive/HACKMOL/Adult_ResNet50Model.h5\n",
            "31/31 [==============================] - 13s 393ms/step - loss: 0.5364 - accuracy: 0.7550 - val_loss: 0.4784 - val_accuracy: 0.7933\n",
            "Epoch 5/30\n",
            "31/31 [==============================] - ETA: 0s - loss: 0.5434 - accuracy: 0.7581\n",
            "Epoch 5: val_accuracy did not improve from 0.79327\n",
            "31/31 [==============================] - 13s 395ms/step - loss: 0.5434 - accuracy: 0.7581 - val_loss: 0.5031 - val_accuracy: 0.7933\n",
            "Epoch 6/30\n",
            "31/31 [==============================] - ETA: 0s - loss: 0.5024 - accuracy: 0.7913\n",
            "Epoch 6: val_accuracy improved from 0.79327 to 0.80048, saving model to /content/drive/MyDrive/HACKMOL/Adult_ResNet50Model.h5\n",
            "31/31 [==============================] - 17s 546ms/step - loss: 0.5024 - accuracy: 0.7913 - val_loss: 0.4819 - val_accuracy: 0.8005\n",
            "Epoch 7/30\n",
            "31/31 [==============================] - ETA: 0s - loss: 0.5447 - accuracy: 0.7591\n",
            "Epoch 7: val_accuracy improved from 0.80048 to 0.81250, saving model to /content/drive/MyDrive/HACKMOL/Adult_ResNet50Model.h5\n",
            "31/31 [==============================] - 15s 462ms/step - loss: 0.5447 - accuracy: 0.7591 - val_loss: 0.4515 - val_accuracy: 0.8125\n",
            "Epoch 8/30\n",
            "31/31 [==============================] - ETA: 0s - loss: 0.5129 - accuracy: 0.7742\n",
            "Epoch 8: val_accuracy improved from 0.81250 to 0.83413, saving model to /content/drive/MyDrive/HACKMOL/Adult_ResNet50Model.h5\n",
            "31/31 [==============================] - 14s 439ms/step - loss: 0.5129 - accuracy: 0.7742 - val_loss: 0.4363 - val_accuracy: 0.8341\n",
            "Epoch 9/30\n",
            "31/31 [==============================] - ETA: 0s - loss: 0.5124 - accuracy: 0.7792\n",
            "Epoch 9: val_accuracy did not improve from 0.83413\n",
            "31/31 [==============================] - 12s 376ms/step - loss: 0.5124 - accuracy: 0.7792 - val_loss: 0.4892 - val_accuracy: 0.7812\n",
            "Epoch 10/30\n",
            "31/31 [==============================] - ETA: 0s - loss: 0.5236 - accuracy: 0.7601\n",
            "Epoch 10: val_accuracy did not improve from 0.83413\n",
            "31/31 [==============================] - 15s 475ms/step - loss: 0.5236 - accuracy: 0.7601 - val_loss: 0.4798 - val_accuracy: 0.7933\n",
            "Epoch 11/30\n",
            "31/31 [==============================] - ETA: 0s - loss: 0.5174 - accuracy: 0.7692\n",
            "Epoch 11: val_accuracy did not improve from 0.83413\n",
            "31/31 [==============================] - 12s 364ms/step - loss: 0.5174 - accuracy: 0.7692 - val_loss: 0.4683 - val_accuracy: 0.8197\n",
            "Epoch 12/30\n",
            "31/31 [==============================] - ETA: 0s - loss: 0.5013 - accuracy: 0.7863\n",
            "Epoch 12: val_accuracy did not improve from 0.83413\n",
            "31/31 [==============================] - 12s 373ms/step - loss: 0.5013 - accuracy: 0.7863 - val_loss: 0.4463 - val_accuracy: 0.8245\n",
            "Epoch 13/30\n",
            "31/31 [==============================] - ETA: 0s - loss: 0.4897 - accuracy: 0.8075\n",
            "Epoch 13: val_accuracy did not improve from 0.83413\n",
            "31/31 [==============================] - 14s 421ms/step - loss: 0.4897 - accuracy: 0.8075 - val_loss: 0.4602 - val_accuracy: 0.8005\n",
            "Epoch 14/30\n",
            "31/31 [==============================] - ETA: 0s - loss: 0.5057 - accuracy: 0.7772\n",
            "Epoch 14: val_accuracy did not improve from 0.83413\n",
            "31/31 [==============================] - 12s 372ms/step - loss: 0.5057 - accuracy: 0.7772 - val_loss: 0.4404 - val_accuracy: 0.8245\n",
            "Epoch 15/30\n",
            "31/31 [==============================] - ETA: 0s - loss: 0.4908 - accuracy: 0.7843\n",
            "Epoch 15: val_accuracy did not improve from 0.83413\n",
            "31/31 [==============================] - 12s 369ms/step - loss: 0.4908 - accuracy: 0.7843 - val_loss: 0.4603 - val_accuracy: 0.7909\n",
            "Epoch 16/30\n",
            "31/31 [==============================] - ETA: 0s - loss: 0.4748 - accuracy: 0.7954\n",
            "Epoch 16: val_accuracy did not improve from 0.83413\n",
            "31/31 [==============================] - 12s 370ms/step - loss: 0.4748 - accuracy: 0.7954 - val_loss: 0.4514 - val_accuracy: 0.8101\n",
            "Epoch 17/30\n",
            "31/31 [==============================] - ETA: 0s - loss: 0.4891 - accuracy: 0.7833\n",
            "Epoch 17: val_accuracy did not improve from 0.83413\n",
            "31/31 [==============================] - 16s 483ms/step - loss: 0.4891 - accuracy: 0.7833 - val_loss: 0.4106 - val_accuracy: 0.8269\n",
            "Epoch 18/30\n",
            "31/31 [==============================] - ETA: 0s - loss: 0.5006 - accuracy: 0.7702\n",
            "Epoch 18: val_accuracy did not improve from 0.83413\n",
            "31/31 [==============================] - 12s 368ms/step - loss: 0.5006 - accuracy: 0.7702 - val_loss: 0.4290 - val_accuracy: 0.8245\n",
            "Epoch 19/30\n",
            "31/31 [==============================] - ETA: 0s - loss: 0.4792 - accuracy: 0.7923\n",
            "Epoch 19: val_accuracy did not improve from 0.83413\n",
            "31/31 [==============================] - 12s 366ms/step - loss: 0.4792 - accuracy: 0.7923 - val_loss: 0.4431 - val_accuracy: 0.8149\n",
            "Epoch 20/30\n",
            "31/31 [==============================] - ETA: 0s - loss: 0.4680 - accuracy: 0.8024\n",
            "Epoch 20: val_accuracy did not improve from 0.83413\n",
            "31/31 [==============================] - 15s 475ms/step - loss: 0.4680 - accuracy: 0.8024 - val_loss: 0.4231 - val_accuracy: 0.8293\n",
            "Epoch 21/30\n",
            "31/31 [==============================] - ETA: 0s - loss: 0.4853 - accuracy: 0.7923\n",
            "Epoch 21: val_accuracy did not improve from 0.83413\n",
            "31/31 [==============================] - 12s 372ms/step - loss: 0.4853 - accuracy: 0.7923 - val_loss: 0.4026 - val_accuracy: 0.8245\n",
            "Epoch 22/30\n",
            "31/31 [==============================] - ETA: 0s - loss: 0.4942 - accuracy: 0.7681\n",
            "Epoch 22: val_accuracy did not improve from 0.83413\n",
            "31/31 [==============================] - 12s 375ms/step - loss: 0.4942 - accuracy: 0.7681 - val_loss: 0.4649 - val_accuracy: 0.7788\n",
            "Epoch 23/30\n",
            "31/31 [==============================] - ETA: 0s - loss: 0.4711 - accuracy: 0.7954\n",
            "Epoch 23: val_accuracy did not improve from 0.83413\n",
            "31/31 [==============================] - 12s 362ms/step - loss: 0.4711 - accuracy: 0.7954 - val_loss: 0.4441 - val_accuracy: 0.8029\n",
            "Epoch 24/30\n",
            "31/31 [==============================] - ETA: 0s - loss: 0.4514 - accuracy: 0.8145\n",
            "Epoch 24: val_accuracy improved from 0.83413 to 0.83894, saving model to /content/drive/MyDrive/HACKMOL/Adult_ResNet50Model.h5\n",
            "31/31 [==============================] - 16s 510ms/step - loss: 0.4514 - accuracy: 0.8145 - val_loss: 0.4082 - val_accuracy: 0.8389\n",
            "Epoch 25/30\n",
            "31/31 [==============================] - ETA: 0s - loss: 0.4836 - accuracy: 0.7772\n",
            "Epoch 25: val_accuracy did not improve from 0.83894\n",
            "31/31 [==============================] - 16s 477ms/step - loss: 0.4836 - accuracy: 0.7772 - val_loss: 0.4172 - val_accuracy: 0.8245\n",
            "Epoch 26/30\n",
            "31/31 [==============================] - ETA: 0s - loss: 0.4671 - accuracy: 0.7933\n",
            "Epoch 26: val_accuracy improved from 0.83894 to 0.85096, saving model to /content/drive/MyDrive/HACKMOL/Adult_ResNet50Model.h5\n",
            "31/31 [==============================] - 16s 510ms/step - loss: 0.4671 - accuracy: 0.7933 - val_loss: 0.3748 - val_accuracy: 0.8510\n",
            "Epoch 27/30\n",
            "31/31 [==============================] - ETA: 0s - loss: 0.4570 - accuracy: 0.8044\n",
            "Epoch 27: val_accuracy did not improve from 0.85096\n",
            "31/31 [==============================] - 12s 378ms/step - loss: 0.4570 - accuracy: 0.8044 - val_loss: 0.4106 - val_accuracy: 0.8341\n",
            "Epoch 28/30\n",
            "31/31 [==============================] - ETA: 0s - loss: 0.4596 - accuracy: 0.7984\n",
            "Epoch 28: val_accuracy did not improve from 0.85096\n",
            "31/31 [==============================] - 15s 479ms/step - loss: 0.4596 - accuracy: 0.7984 - val_loss: 0.4097 - val_accuracy: 0.8341\n",
            "Epoch 29/30\n",
            "31/31 [==============================] - ETA: 0s - loss: 0.4657 - accuracy: 0.7903\n",
            "Epoch 29: val_accuracy did not improve from 0.85096\n",
            "31/31 [==============================] - 12s 370ms/step - loss: 0.4657 - accuracy: 0.7903 - val_loss: 0.3897 - val_accuracy: 0.8389\n",
            "Epoch 30/30\n",
            "31/31 [==============================] - ETA: 0s - loss: 0.4616 - accuracy: 0.7984\n",
            "Epoch 30: val_accuracy improved from 0.85096 to 0.85577, saving model to /content/drive/MyDrive/HACKMOL/Adult_ResNet50Model.h5\n",
            "31/31 [==============================] - 14s 446ms/step - loss: 0.4616 - accuracy: 0.7984 - val_loss: 0.3762 - val_accuracy: 0.8558\n"
          ]
        }
      ]
    },
    {
      "cell_type": "code",
      "source": [],
      "metadata": {
        "id": "zohkB-lmMsRE"
      },
      "execution_count": null,
      "outputs": []
    }
  ]
}